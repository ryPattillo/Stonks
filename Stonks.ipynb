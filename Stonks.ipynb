{
 "cells": [
  {
   "cell_type": "code",
   "execution_count": 1,
   "id": "53aedc02",
   "metadata": {},
   "outputs": [],
   "source": [
    "import train"
   ]
  },
  {
   "cell_type": "code",
   "execution_count": 2,
   "id": "a61ff5fb",
   "metadata": {},
   "outputs": [
    {
     "name": "stdout",
     "output_type": "stream",
     "text": [
      "Epoch 1/50\n",
      "17/17 [==============================] - 1s 3ms/step - loss: 1.0984 - accuracy: 0.3780\n",
      "Epoch 2/50\n",
      "17/17 [==============================] - 0s 2ms/step - loss: 1.0974 - accuracy: 0.3762\n",
      "Epoch 3/50\n",
      "17/17 [==============================] - 0s 2ms/step - loss: 1.0967 - accuracy: 0.3631\n",
      "Epoch 4/50\n",
      "17/17 [==============================] - 0s 2ms/step - loss: 1.0962 - accuracy: 0.3743\n",
      "Epoch 5/50\n",
      "17/17 [==============================] - 0s 2ms/step - loss: 1.0956 - accuracy: 0.3780\n",
      "Epoch 6/50\n",
      "17/17 [==============================] - 0s 1ms/step - loss: 1.0952 - accuracy: 0.3706\n",
      "Epoch 7/50\n",
      "17/17 [==============================] - 0s 1ms/step - loss: 1.0950 - accuracy: 0.3669\n",
      "Epoch 8/50\n",
      "17/17 [==============================] - 0s 1ms/step - loss: 1.0946 - accuracy: 0.3669\n",
      "Epoch 9/50\n",
      "17/17 [==============================] - 0s 1ms/step - loss: 1.0943 - accuracy: 0.3669\n",
      "Epoch 10/50\n",
      "17/17 [==============================] - 0s 2ms/step - loss: 1.0939 - accuracy: 0.3631\n",
      "Epoch 11/50\n",
      "17/17 [==============================] - 0s 2ms/step - loss: 1.0936 - accuracy: 0.3687\n",
      "Epoch 12/50\n",
      "17/17 [==============================] - 0s 2ms/step - loss: 1.0934 - accuracy: 0.3631\n",
      "Epoch 13/50\n",
      "17/17 [==============================] - 0s 2ms/step - loss: 1.0932 - accuracy: 0.3669\n",
      "Epoch 14/50\n",
      "17/17 [==============================] - 0s 2ms/step - loss: 1.0929 - accuracy: 0.3687\n",
      "Epoch 15/50\n",
      "17/17 [==============================] - 0s 2ms/step - loss: 1.0928 - accuracy: 0.3743\n",
      "Epoch 16/50\n",
      "17/17 [==============================] - 0s 2ms/step - loss: 1.0926 - accuracy: 0.3669\n",
      "Epoch 17/50\n",
      "17/17 [==============================] - 0s 2ms/step - loss: 1.0923 - accuracy: 0.3724\n",
      "Epoch 18/50\n",
      "17/17 [==============================] - 0s 2ms/step - loss: 1.0920 - accuracy: 0.3706\n",
      "Epoch 19/50\n",
      "17/17 [==============================] - 0s 2ms/step - loss: 1.0917 - accuracy: 0.3687\n",
      "Epoch 20/50\n",
      "17/17 [==============================] - 0s 2ms/step - loss: 1.0917 - accuracy: 0.3724\n",
      "Epoch 21/50\n",
      "17/17 [==============================] - 0s 2ms/step - loss: 1.0913 - accuracy: 0.3687\n",
      "Epoch 22/50\n",
      "17/17 [==============================] - 0s 2ms/step - loss: 1.0911 - accuracy: 0.3743\n",
      "Epoch 23/50\n",
      "17/17 [==============================] - 0s 1ms/step - loss: 1.0909 - accuracy: 0.3706\n",
      "Epoch 24/50\n",
      "17/17 [==============================] - 0s 2ms/step - loss: 1.0907 - accuracy: 0.3762\n",
      "Epoch 25/50\n",
      "17/17 [==============================] - 0s 2ms/step - loss: 1.0905 - accuracy: 0.3818\n",
      "Epoch 26/50\n",
      "17/17 [==============================] - 0s 2ms/step - loss: 1.0903 - accuracy: 0.3724\n",
      "Epoch 27/50\n",
      "17/17 [==============================] - 0s 2ms/step - loss: 1.0901 - accuracy: 0.3780\n",
      "Epoch 28/50\n",
      "17/17 [==============================] - 0s 2ms/step - loss: 1.0900 - accuracy: 0.3818\n",
      "Epoch 29/50\n",
      "17/17 [==============================] - 0s 2ms/step - loss: 1.0898 - accuracy: 0.3892\n",
      "Epoch 30/50\n",
      "17/17 [==============================] - 0s 1ms/step - loss: 1.0896 - accuracy: 0.3855\n",
      "Epoch 31/50\n",
      "17/17 [==============================] - 0s 1ms/step - loss: 1.0894 - accuracy: 0.3799\n",
      "Epoch 32/50\n",
      "17/17 [==============================] - 0s 1ms/step - loss: 1.0893 - accuracy: 0.3873\n",
      "Epoch 33/50\n",
      "17/17 [==============================] - 0s 1ms/step - loss: 1.0891 - accuracy: 0.3911\n",
      "Epoch 34/50\n",
      "17/17 [==============================] - 0s 1ms/step - loss: 1.0890 - accuracy: 0.3799\n",
      "Epoch 35/50\n",
      "17/17 [==============================] - 0s 1ms/step - loss: 1.0887 - accuracy: 0.3818\n",
      "Epoch 36/50\n",
      "17/17 [==============================] - 0s 1ms/step - loss: 1.0885 - accuracy: 0.3762\n",
      "Epoch 37/50\n",
      "17/17 [==============================] - 0s 1ms/step - loss: 1.0884 - accuracy: 0.3799\n",
      "Epoch 38/50\n",
      "17/17 [==============================] - 0s 2ms/step - loss: 1.0882 - accuracy: 0.3780\n",
      "Epoch 39/50\n",
      "17/17 [==============================] - 0s 2ms/step - loss: 1.0881 - accuracy: 0.3799\n",
      "Epoch 40/50\n",
      "17/17 [==============================] - 0s 1ms/step - loss: 1.0879 - accuracy: 0.3873\n",
      "Epoch 41/50\n",
      "17/17 [==============================] - 0s 1ms/step - loss: 1.0881 - accuracy: 0.3706\n",
      "Epoch 42/50\n",
      "17/17 [==============================] - 0s 1ms/step - loss: 1.0877 - accuracy: 0.3780\n",
      "Epoch 43/50\n",
      "17/17 [==============================] - 0s 1ms/step - loss: 1.0875 - accuracy: 0.3818\n",
      "Epoch 44/50\n",
      "17/17 [==============================] - 0s 1ms/step - loss: 1.0874 - accuracy: 0.3762\n",
      "Epoch 45/50\n",
      "17/17 [==============================] - 0s 1ms/step - loss: 1.0872 - accuracy: 0.3855\n",
      "Epoch 46/50\n",
      "17/17 [==============================] - 0s 1ms/step - loss: 1.0873 - accuracy: 0.3762\n",
      "Epoch 47/50\n",
      "17/17 [==============================] - 0s 2ms/step - loss: 1.0871 - accuracy: 0.3818\n",
      "Epoch 48/50\n",
      "17/17 [==============================] - 0s 2ms/step - loss: 1.0869 - accuracy: 0.3799\n",
      "Epoch 49/50\n",
      "17/17 [==============================] - 0s 2ms/step - loss: 1.0867 - accuracy: 0.3855\n",
      "Epoch 50/50\n",
      "17/17 [==============================] - 0s 2ms/step - loss: 1.0866 - accuracy: 0.3818\n",
      "5/5 [==============================] - 0s 2ms/step - loss: 1.0866 - accuracy: 0.3926\n",
      "Would you like to display loss charts?\n",
      "[y] yes, [n] noy\n"
     ]
    },
    {
     "data": {
      "image/png": "[encoded data removed]",
      "text/plain": [
       "<Figure size 432x288 with 1 Axes>"
      ]
     },
     "metadata": {
      "needs_background": "light"
     },
     "output_type": "display_data"
    },
    {
     "name": "stdout",
     "output_type": "stream",
     "text": [
      "Would you like to save the model?\n",
      "[y] yes, [n] non\n"
     ]
    }
   ],
   "source": [
    "train.main()"
   ]
  }
 ],
 "metadata": {
  "kernelspec": {
   "display_name": "Python 3 (ipykernel)",
   "language": "python",
   "name": "python3"
  },
  "language_info": {
   "codemirror_mode": {
    "name": "ipython",
    "version": 3
   },
   "file_extension": ".py",
   "mimetype": "text/x-python",
   "name": "python",
   "nbconvert_exporter": "python",
   "pygments_lexer": "ipython3",
   "version": "3.9.7"
  }
 },
 "nbformat": 4,
 "nbformat_minor": 5
}
