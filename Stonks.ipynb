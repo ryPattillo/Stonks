{
 "cells": [
  {
   "cell_type": "code",
   "execution_count": 2,
   "id": "53aedc02",
   "metadata": {},
   "outputs": [],
   "source": [
    "import train"
   ]
  },
  {
   "cell_type": "code",
   "execution_count": 3,
   "id": "a61ff5fb",
   "metadata": {},
   "outputs": [
    {
     "name": "stdout",
     "output_type": "stream",
     "text": [
      "Epoch 1/50\n",
      "17/17 [==============================] - 0s 2ms/step - loss: 1.0998 - accuracy: 0.3687\n",
      "Epoch 2/50\n",
      "17/17 [==============================] - 0s 2ms/step - loss: 1.0988 - accuracy: 0.3743\n",
      "Epoch 3/50\n",
      "17/17 [==============================] - 0s 2ms/step - loss: 1.0981 - accuracy: 0.3780\n",
      "Epoch 4/50\n",
      "17/17 [==============================] - 0s 2ms/step - loss: 1.0975 - accuracy: 0.3687\n",
      "Epoch 5/50\n",
      "17/17 [==============================] - 0s 2ms/step - loss: 1.0970 - accuracy: 0.3724\n",
      "Epoch 6/50\n",
      "17/17 [==============================] - 0s 2ms/step - loss: 1.0962 - accuracy: 0.3743\n",
      "Epoch 7/50\n",
      "17/17 [==============================] - 0s 2ms/step - loss: 1.0958 - accuracy: 0.3743\n",
      "Epoch 8/50\n",
      "17/17 [==============================] - 0s 2ms/step - loss: 1.0951 - accuracy: 0.3799\n",
      "Epoch 9/50\n",
      "17/17 [==============================] - 0s 2ms/step - loss: 1.0948 - accuracy: 0.3724\n",
      "Epoch 10/50\n",
      "17/17 [==============================] - 0s 1ms/step - loss: 1.0943 - accuracy: 0.3762\n",
      "Epoch 11/50\n",
      "17/17 [==============================] - 0s 2ms/step - loss: 1.0941 - accuracy: 0.3780\n",
      "Epoch 12/50\n",
      "17/17 [==============================] - 0s 2ms/step - loss: 1.0935 - accuracy: 0.3724\n",
      "Epoch 13/50\n",
      "17/17 [==============================] - 0s 1ms/step - loss: 1.0930 - accuracy: 0.3743\n",
      "Epoch 14/50\n",
      "17/17 [==============================] - 0s 1ms/step - loss: 1.0925 - accuracy: 0.3762\n",
      "Epoch 15/50\n",
      "17/17 [==============================] - 0s 2ms/step - loss: 1.0920 - accuracy: 0.3799\n",
      "Epoch 16/50\n",
      "17/17 [==============================] - 0s 1ms/step - loss: 1.0915 - accuracy: 0.3762\n",
      "Epoch 17/50\n",
      "17/17 [==============================] - 0s 1ms/step - loss: 1.0912 - accuracy: 0.3780\n",
      "Epoch 18/50\n",
      "17/17 [==============================] - 0s 1ms/step - loss: 1.0910 - accuracy: 0.3799\n",
      "Epoch 19/50\n",
      "17/17 [==============================] - 0s 2ms/step - loss: 1.0910 - accuracy: 0.3780\n",
      "Epoch 20/50\n",
      "17/17 [==============================] - 0s 1ms/step - loss: 1.0905 - accuracy: 0.3780\n",
      "Epoch 21/50\n",
      "17/17 [==============================] - 0s 1ms/step - loss: 1.0900 - accuracy: 0.3799\n",
      "Epoch 22/50\n",
      "17/17 [==============================] - 0s 1ms/step - loss: 1.0897 - accuracy: 0.3818\n",
      "Epoch 23/50\n",
      "17/17 [==============================] - 0s 1ms/step - loss: 1.0898 - accuracy: 0.3836\n",
      "Epoch 24/50\n",
      "17/17 [==============================] - 0s 2ms/step - loss: 1.0891 - accuracy: 0.3836\n",
      "Epoch 25/50\n",
      "17/17 [==============================] - 0s 1ms/step - loss: 1.0889 - accuracy: 0.3836\n",
      "Epoch 26/50\n",
      "17/17 [==============================] - 0s 1ms/step - loss: 1.0886 - accuracy: 0.3836\n",
      "Epoch 27/50\n",
      "17/17 [==============================] - 0s 2ms/step - loss: 1.0883 - accuracy: 0.3818\n",
      "Epoch 28/50\n",
      "17/17 [==============================] - 0s 1ms/step - loss: 1.0880 - accuracy: 0.3818\n",
      "Epoch 29/50\n",
      "17/17 [==============================] - 0s 1ms/step - loss: 1.0877 - accuracy: 0.3799\n",
      "Epoch 30/50\n",
      "17/17 [==============================] - 0s 1ms/step - loss: 1.0877 - accuracy: 0.3818\n",
      "Epoch 31/50\n",
      "17/17 [==============================] - 0s 1ms/step - loss: 1.0873 - accuracy: 0.3799\n",
      "Epoch 32/50\n",
      "17/17 [==============================] - 0s 1ms/step - loss: 1.0869 - accuracy: 0.3799\n",
      "Epoch 33/50\n",
      "17/17 [==============================] - 0s 2ms/step - loss: 1.0867 - accuracy: 0.3780\n",
      "Epoch 34/50\n",
      "17/17 [==============================] - 0s 1ms/step - loss: 1.0863 - accuracy: 0.3836\n",
      "Epoch 35/50\n",
      "17/17 [==============================] - 0s 1ms/step - loss: 1.0862 - accuracy: 0.3873\n",
      "Epoch 36/50\n",
      "17/17 [==============================] - 0s 1ms/step - loss: 1.0859 - accuracy: 0.3873\n",
      "Epoch 37/50\n",
      "17/17 [==============================] - 0s 1ms/step - loss: 1.0854 - accuracy: 0.3836\n",
      "Epoch 38/50\n",
      "17/17 [==============================] - 0s 2ms/step - loss: 1.0852 - accuracy: 0.3911\n",
      "Epoch 39/50\n",
      "17/17 [==============================] - 0s 1ms/step - loss: 1.0850 - accuracy: 0.3892\n",
      "Epoch 40/50\n",
      "17/17 [==============================] - 0s 1ms/step - loss: 1.0849 - accuracy: 0.3911\n",
      "Epoch 41/50\n",
      "17/17 [==============================] - 0s 2ms/step - loss: 1.0845 - accuracy: 0.3873\n",
      "Epoch 42/50\n",
      "17/17 [==============================] - 0s 1ms/step - loss: 1.0842 - accuracy: 0.3929\n",
      "Epoch 43/50\n",
      "17/17 [==============================] - 0s 1ms/step - loss: 1.0841 - accuracy: 0.3836\n",
      "Epoch 44/50\n",
      "17/17 [==============================] - 0s 1ms/step - loss: 1.0838 - accuracy: 0.3873\n",
      "Epoch 45/50\n",
      "17/17 [==============================] - 0s 1ms/step - loss: 1.0834 - accuracy: 0.3892\n",
      "Epoch 46/50\n",
      "17/17 [==============================] - 0s 1ms/step - loss: 1.0834 - accuracy: 0.3836\n",
      "Epoch 47/50\n",
      "17/17 [==============================] - 0s 1ms/step - loss: 1.0830 - accuracy: 0.3966\n",
      "Epoch 48/50\n",
      "17/17 [==============================] - 0s 2ms/step - loss: 1.0828 - accuracy: 0.3929\n",
      "Epoch 49/50\n",
      "17/17 [==============================] - 0s 1ms/step - loss: 1.0825 - accuracy: 0.4004\n",
      "Epoch 50/50\n",
      "17/17 [==============================] - 0s 2ms/step - loss: 1.0825 - accuracy: 0.3985\n",
      "5/5 [==============================] - 0s 1ms/step - loss: 1.1079 - accuracy: 0.3037\n",
      "Would you like to display loss charts?\n"
     ]
    },
    {
     "data": {
      "image/png": "[encoded data removed]",
      "text/plain": [
       "<Figure size 432x288 with 1 Axes>"
      ]
     },
     "metadata": {
      "needs_background": "light"
     },
     "output_type": "display_data"
    },
    {
     "name": "stdout",
     "output_type": "stream",
     "text": [
      "Would you like to save the model?\n"
     ]
    }
   ],
   "source": [
    "train.main()"
   ]
  }
 ],
 "metadata": {
  "kernelspec": {
   "display_name": "Python 3 (ipykernel)",
   "language": "python",
   "name": "python3"
  },
  "language_info": {
   "codemirror_mode": {
    "name": "ipython",
    "version": 3
   },
   "file_extension": ".py",
   "mimetype": "text/x-python",
   "name": "python",
   "nbconvert_exporter": "python",
   "pygments_lexer": "ipython3",
   "version": "3.9.7"
  }
 },
 "nbformat": 4,
 "nbformat_minor": 5
}
