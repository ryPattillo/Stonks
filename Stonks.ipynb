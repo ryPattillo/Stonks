{
  "cells": [
    {
      "cell_type": "markdown",
      "metadata": {
        "id": "view-in-github",
        "colab_type": "text"
      },
      "source": [
        "<a href=\"https://colab.research.google.com/github/ryPattillo/Stonks/blob/main/Stonks.ipynb\" target=\"_parent\"><img src=\"https://colab.research.google.com/assets/colab-badge.svg\" alt=\"Open In Colab\"/></a>"
      ]
    },
    {
      "cell_type": "code",
      "execution_count": null,
      "metadata": {
        "id": "53aedc02"
      },
      "outputs": [],
      "source": [
        "import train"
      ],
      "id": "53aedc02"
    },
    {
      "cell_type": "code",
      "execution_count": null,
      "metadata": {
        "colab": {
          "base_uri": "https://localhost:8080/",
          "height": 1000
        },
        "id": "a61ff5fb",
        "outputId": "af25261f-d6c5-4881-ad4c-853b18668404"
      },
      "outputs": [
        {
          "name": "stdout",
          "output_type": "stream",
          "text": [
            "Epoch 1/50\n",
            "17/17 [==============================] - 0s 2ms/step - loss: 1.1096 - accuracy: 0.3147\n",
            "Epoch 2/50\n",
            "17/17 [==============================] - 0s 2ms/step - loss: 1.1015 - accuracy: 0.3464\n",
            "Epoch 3/50\n",
            "17/17 [==============================] - 0s 2ms/step - loss: 1.0978 - accuracy: 0.3538\n",
            "Epoch 4/50\n",
            "17/17 [==============================] - 0s 2ms/step - loss: 1.0959 - accuracy: 0.3464\n",
            "Epoch 5/50\n",
            "17/17 [==============================] - 0s 2ms/step - loss: 1.0948 - accuracy: 0.3464\n",
            "Epoch 6/50\n",
            "17/17 [==============================] - 0s 2ms/step - loss: 1.0939 - accuracy: 0.3520\n",
            "Epoch 7/50\n",
            "17/17 [==============================] - 0s 2ms/step - loss: 1.0935 - accuracy: 0.3538\n",
            "Epoch 8/50\n",
            "17/17 [==============================] - 0s 3ms/step - loss: 1.0930 - accuracy: 0.3575\n",
            "Epoch 9/50\n",
            "17/17 [==============================] - 0s 3ms/step - loss: 1.0926 - accuracy: 0.3575\n",
            "Epoch 10/50\n",
            "17/17 [==============================] - 0s 2ms/step - loss: 1.0925 - accuracy: 0.3594\n",
            "Epoch 11/50\n",
            "17/17 [==============================] - 0s 2ms/step - loss: 1.0922 - accuracy: 0.3613\n",
            "Epoch 12/50\n",
            "17/17 [==============================] - 0s 2ms/step - loss: 1.0920 - accuracy: 0.3520\n",
            "Epoch 13/50\n",
            "17/17 [==============================] - 0s 3ms/step - loss: 1.0917 - accuracy: 0.3706\n",
            "Epoch 14/50\n",
            "17/17 [==============================] - 0s 2ms/step - loss: 1.0913 - accuracy: 0.3538\n",
            "Epoch 15/50\n",
            "17/17 [==============================] - 0s 3ms/step - loss: 1.0911 - accuracy: 0.3706\n",
            "Epoch 16/50\n",
            "17/17 [==============================] - 0s 2ms/step - loss: 1.0906 - accuracy: 0.3762\n",
            "Epoch 17/50\n",
            "17/17 [==============================] - 0s 2ms/step - loss: 1.0905 - accuracy: 0.3669\n",
            "Epoch 18/50\n",
            "17/17 [==============================] - 0s 2ms/step - loss: 1.0901 - accuracy: 0.3780\n",
            "Epoch 19/50\n",
            "17/17 [==============================] - 0s 2ms/step - loss: 1.0900 - accuracy: 0.3799\n",
            "Epoch 20/50\n",
            "17/17 [==============================] - 0s 3ms/step - loss: 1.0900 - accuracy: 0.3873\n",
            "Epoch 21/50\n",
            "17/17 [==============================] - 0s 3ms/step - loss: 1.0896 - accuracy: 0.3799\n",
            "Epoch 22/50\n",
            "17/17 [==============================] - 0s 2ms/step - loss: 1.0894 - accuracy: 0.3743\n",
            "Epoch 23/50\n",
            "17/17 [==============================] - 0s 3ms/step - loss: 1.0894 - accuracy: 0.3799\n",
            "Epoch 24/50\n",
            "17/17 [==============================] - 0s 2ms/step - loss: 1.0889 - accuracy: 0.3743\n",
            "Epoch 25/50\n",
            "17/17 [==============================] - 0s 3ms/step - loss: 1.0890 - accuracy: 0.3818\n",
            "Epoch 26/50\n",
            "17/17 [==============================] - 0s 3ms/step - loss: 1.0886 - accuracy: 0.3780\n",
            "Epoch 27/50\n",
            "17/17 [==============================] - 0s 3ms/step - loss: 1.0887 - accuracy: 0.3855\n",
            "Epoch 28/50\n",
            "17/17 [==============================] - 0s 2ms/step - loss: 1.0884 - accuracy: 0.3818\n",
            "Epoch 29/50\n",
            "17/17 [==============================] - 0s 2ms/step - loss: 1.0884 - accuracy: 0.3706\n",
            "Epoch 30/50\n",
            "17/17 [==============================] - 0s 2ms/step - loss: 1.0880 - accuracy: 0.3780\n",
            "Epoch 31/50\n",
            "17/17 [==============================] - 0s 3ms/step - loss: 1.0880 - accuracy: 0.3743\n",
            "Epoch 32/50\n",
            "17/17 [==============================] - 0s 2ms/step - loss: 1.0879 - accuracy: 0.3799\n",
            "Epoch 33/50\n",
            "17/17 [==============================] - 0s 3ms/step - loss: 1.0876 - accuracy: 0.3818\n",
            "Epoch 34/50\n",
            "17/17 [==============================] - 0s 3ms/step - loss: 1.0878 - accuracy: 0.3836\n",
            "Epoch 35/50\n",
            "17/17 [==============================] - 0s 2ms/step - loss: 1.0873 - accuracy: 0.3855\n",
            "Epoch 36/50\n",
            "17/17 [==============================] - 0s 2ms/step - loss: 1.0873 - accuracy: 0.3818\n",
            "Epoch 37/50\n",
            "17/17 [==============================] - 0s 2ms/step - loss: 1.0870 - accuracy: 0.3818\n",
            "Epoch 38/50\n",
            "17/17 [==============================] - 0s 2ms/step - loss: 1.0870 - accuracy: 0.3892\n",
            "Epoch 39/50\n",
            "17/17 [==============================] - 0s 2ms/step - loss: 1.0867 - accuracy: 0.3873\n",
            "Epoch 40/50\n",
            "17/17 [==============================] - 0s 2ms/step - loss: 1.0865 - accuracy: 0.3929\n",
            "Epoch 41/50\n",
            "17/17 [==============================] - 0s 2ms/step - loss: 1.0866 - accuracy: 0.3892\n",
            "Epoch 42/50\n",
            "17/17 [==============================] - 0s 2ms/step - loss: 1.0864 - accuracy: 0.3929\n",
            "Epoch 43/50\n",
            "17/17 [==============================] - 0s 2ms/step - loss: 1.0864 - accuracy: 0.3948\n",
            "Epoch 44/50\n",
            "17/17 [==============================] - 0s 3ms/step - loss: 1.0863 - accuracy: 0.3948\n",
            "Epoch 45/50\n",
            "17/17 [==============================] - 0s 2ms/step - loss: 1.0861 - accuracy: 0.3929\n",
            "Epoch 46/50\n",
            "17/17 [==============================] - 0s 2ms/step - loss: 1.0859 - accuracy: 0.3929\n",
            "Epoch 47/50\n",
            "17/17 [==============================] - 0s 2ms/step - loss: 1.0857 - accuracy: 0.3892\n",
            "Epoch 48/50\n",
            "17/17 [==============================] - 0s 2ms/step - loss: 1.0858 - accuracy: 0.3948\n",
            "Epoch 49/50\n",
            "17/17 [==============================] - 0s 2ms/step - loss: 1.0857 - accuracy: 0.3892\n",
            "Epoch 50/50\n",
            "17/17 [==============================] - 0s 2ms/step - loss: 1.0857 - accuracy: 0.3780\n",
            "5/5 [==============================] - 0s 3ms/step - loss: 1.0820 - accuracy: 0.3556\n",
            "Would you like to display loss charts?\n",
            "[y] yes, [n] noy\n"
          ]
        },
        {
          "output_type": "display_data",
          "data": {
            "text/plain": [
              "<Figure size 432x288 with 1 Axes>"
            ],
            "image/png": "[encoded data removed]"
          },
          "metadata": {
            "needs_background": "light"
          }
        },
        {
          "name": "stdout",
          "output_type": "stream",
          "text": [
            "Would you like to save the model?\n",
            "[y] yes, [n] non\n"
          ]
        }
      ],
      "source": [
        "train.main()"
      ],
      "id": "a61ff5fb"
    }
  ],
  "metadata": {
    "colab": {
      "name": "Stonks.ipynb",
      "provenance": [],
      "toc_visible": true,
      "include_colab_link": true
    },
    "kernelspec": {
      "display_name": "Python 3 (ipykernel)",
      "language": "python",
      "name": "python3"
    },
    "language_info": {
      "codemirror_mode": {
        "name": "ipython",
        "version": 3
      },
      "file_extension": ".py",
      "mimetype": "text/x-python",
      "name": "python",
      "nbconvert_exporter": "python",
      "pygments_lexer": "ipython3",
      "version": "3.9.7"
    }
  },
  "nbformat": 4,
  "nbformat_minor": 5
}